{
 "cells": [
  {
   "cell_type": "code",
   "execution_count": 4,
   "metadata": {},
   "outputs": [
    {
     "name": "stdout",
     "output_type": "stream",
     "text": [
      "Running in Jupyter Notebook within VSCode\n"
     ]
    }
   ],
   "source": [
    "import os\n",
    "import importlib\n",
    "\n",
    "def install_package(package):\n",
    "    try:\n",
    "        importlib.import_module(package)\n",
    "    except ImportError:\n",
    "        import sys\n",
    "        !{sys.executable} -m pip install {package}\n",
    "\n",
    "def is_running_in_colab():\n",
    "    try:\n",
    "        from google.colab import _ipython as ip\n",
    "        return True\n",
    "    except ImportError:\n",
    "        return False\n",
    "\n",
    "def is_running_in_jupyter():\n",
    "    try:\n",
    "        shell = get_ipython().__class__.__name__\n",
    "        if shell == 'ZMQInteractiveShell':\n",
    "            return True\n",
    "        else:\n",
    "            return False\n",
    "    except NameError:\n",
    "        return False\n",
    "\n",
    "def is_running_in_vscode():\n",
    "    return 'VSCODE_PID' in os.environ\n",
    "\n",
    "try:\n",
    "  if is_running_in_colab():\n",
    "    print(\"Running in Google Colab\")\n",
    "  elif is_running_in_jupyter():\n",
    "    if is_running_in_vscode():\n",
    "      print(\"Running in Jupyter Notebook within VSCode\")\n",
    "    else:\n",
    "      print(\"Running in Jupyter Notebook (not in VSCode)\")\n",
    "\n",
    "  import requests\n",
    "  url = 'https://raw.githubusercontent.com/joccing/ICT303-assignment1/master/config.py'\n",
    "  r = requests.get(url, allow_redirects=True)\n",
    "  open('config.py', 'wb').write(r.content)\n",
    "\n",
    "except ModuleNotFoundError:\n",
    "  pass\n",
    "\n",
    "from config import *\n",
    "config_data()"
   ]
  },
  {
   "cell_type": "code",
   "execution_count": 6,
   "metadata": {},
   "outputs": [
    {
     "name": "stdout",
     "output_type": "stream",
     "text": [
      "Finished importing data!\n"
     ]
    }
   ],
   "source": [
    "try:\n",
    "    import pandas as pd\n",
    "except ImportError:\n",
    "    # If pandas is not installed, install it\n",
    "    install_package('pandas')\n",
    "    import pandas as pd\n",
    "\n",
    "train_data = pd.read_csv('data/train.csv')\n",
    "test_data  = pd.read_csv('data/test.csv')\n",
    "assert train_data.shape == (1460,81)\n",
    "assert test_data.shape == (1459, 80)\n",
    "print('Loaded and verified data!')"
   ]
  },
  {
   "cell_type": "code",
   "execution_count": null,
   "metadata": {},
   "outputs": [],
   "source": []
  }
 ],
 "metadata": {
  "kernelspec": {
   "display_name": "Python 3",
   "language": "python",
   "name": "python3"
  },
  "language_info": {
   "codemirror_mode": {
    "name": "ipython",
    "version": 3
   },
   "file_extension": ".py",
   "mimetype": "text/x-python",
   "name": "python",
   "nbconvert_exporter": "python",
   "pygments_lexer": "ipython3",
   "version": "3.11.4"
  },
  "orig_nbformat": 4
 },
 "nbformat": 4,
 "nbformat_minor": 2
}
